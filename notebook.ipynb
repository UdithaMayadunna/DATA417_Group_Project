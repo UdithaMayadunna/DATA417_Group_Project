{
 "cells": [
  {
   "cell_type": "markdown",
   "metadata": {},
   "source": [
    "## 1. Setup and load dependencies"
   ]
  },
  {
   "cell_type": "code",
   "execution_count": 22,
   "metadata": {},
   "outputs": [],
   "source": [
    "import numpy as np\n",
    "import pandas as pd\n",
    "from transformers import AutoModelForSequenceClassification\n",
    "from transformers import AutoTokenizer, AutoConfig\n",
    "import numpy as np\n",
    "from scipy.special import softmax\n",
    "import matplotlib.pyplot as plt\n",
    "import re"
   ]
  },
  {
   "cell_type": "markdown",
   "metadata": {},
   "source": [
    "## 2. Define functions"
   ]
  },
  {
   "cell_type": "code",
   "execution_count": 55,
   "metadata": {},
   "outputs": [],
   "source": [
    "# ANSI color codes for terminal output\n",
    "class bcolors:\n",
    "    HEADER = '\\033[95m'\n",
    "    OKBLUE = '\\033[94m'\n",
    "    OKCYAN = '\\033[96m'\n",
    "    OKGREEN = '\\033[92m'\n",
    "    WARNING = '\\033[93m'\n",
    "    RED = '\\033[91m'\n",
    "    ENDC = '\\033[0m'\n",
    "    BOLD = '\\033[1m'\n",
    "    YELLOW_BG = '\\033[93;47m'\n",
    "    UNDERLINE = '\\033[4m'\n",
    "\n",
    "# function to highlight the text\n",
    "def highlight_text(original_text, positions):\n",
    "    highlighted_text = \"\"\n",
    "    current_position = 0\n",
    "\n",
    "    for start, end in positions:\n",
    "        highlighted_text += original_text[current_position:start]\n",
    "        highlighted_text += bcolors.OKCYAN + original_text[start:end] + bcolors.ENDC\n",
    "        current_position = end\n",
    "\n",
    "    highlighted_text += original_text[current_position:]\n",
    "\n",
    "    return highlighted_text\n",
    "\n",
    "# function to match the text by dictionary\n",
    "def matches_dictionary(text, df_dictionary):\n",
    "    \n",
    "    # to make sure the phrases loaded are all lowercase\n",
    "    df_dictionary['Phrase'] = df_dictionary['Phrase'].str.lower()\n",
    "    dictionary = df_dictionary.set_index(\"Phrase\").to_dict()[\"Definition\"]\n",
    "\n",
    "    # Create a regular expression pattern from the dictionary keys\n",
    "    pattern = re.compile(r'\\b(?:' + '|'.join(re.escape(word) for word in dictionary.keys()) + r')\\b')\n",
    "\n",
    "    # Find all matches in the text string along with their positions and definitions\n",
    "    matches = [(match.start(), match.end(), match.group(), dictionary[match.group()], df_dictionary[df_dictionary[\"Phrase\"].str.lower() == match.group()]['Type'].iloc[0]) for match in pattern.finditer(text.lower())]\n",
    "    return matches\n",
    "\n",
    "# Preprocess text (username and link placeholders)\n",
    "def preprocess(text):\n",
    "    new_text = []\n",
    "    for t in text.split(\" \"):\n",
    "        t = '@user' if t.startswith('@') and len(t) > 1 else t\n",
    "        t = 'http' if t.startswith('http') else t\n",
    "        new_text.append(t)\n",
    "    return \" \".join(new_text)"
   ]
  },
  {
   "cell_type": "markdown",
   "metadata": {},
   "source": [
    "## 3. Data preparation  "
   ]
  },
  {
   "cell_type": "code",
   "execution_count": 43,
   "metadata": {},
   "outputs": [
    {
     "name": "stdout",
     "output_type": "stream",
     "text": [
      "Kia ora bro, the weather today is beaut, let’s head to the beach for a surf and catch some awesome mahi!\n"
     ]
    }
   ],
   "source": [
    "# load data\n",
    "df_dictionary = pd.read_csv(\"dictionary.csv\")\n",
    "df_tweets = pd.read_csv(\"tweets.csv\")\n",
    "\n",
    "# load one message\n",
    "message_id = 0\n",
    "message = df_tweets.loc[message_id, 'message']\n",
    "print(message)"
   ]
  },
  {
   "cell_type": "markdown",
   "metadata": {},
   "source": [
    "## 4. Process message to display augmented information"
   ]
  },
  {
   "cell_type": "code",
   "execution_count": 52,
   "metadata": {},
   "outputs": [
    {
     "name": "stdout",
     "output_type": "stream",
     "text": [
      "Message Id: 0\n",
      "\n",
      "Topic content: \u001b[96mKia\u001b[0m \u001b[96mora\u001b[0m \u001b[96mbro\u001b[0m, the weather today is \u001b[96mbeaut\u001b[0m, let’s head to the beach for a surf and catch some awesome \u001b[96mmahi\u001b[0m!\n"
     ]
    },
    {
     "data": {
      "text/html": [
       "<style type=\"text/css\">\n",
       "#T_acf27 th {\n",
       "  text-align: left;\n",
       "}\n",
       "#T_acf27_row0_col0, #T_acf27_row0_col1, #T_acf27_row0_col2, #T_acf27_row0_col3, #T_acf27_row0_col4, #T_acf27_row1_col0, #T_acf27_row1_col1, #T_acf27_row1_col2, #T_acf27_row1_col3, #T_acf27_row1_col4, #T_acf27_row2_col0, #T_acf27_row2_col1, #T_acf27_row2_col2, #T_acf27_row2_col3, #T_acf27_row2_col4, #T_acf27_row3_col0, #T_acf27_row3_col1, #T_acf27_row3_col2, #T_acf27_row3_col3, #T_acf27_row3_col4, #T_acf27_row4_col0, #T_acf27_row4_col1, #T_acf27_row4_col2, #T_acf27_row4_col3, #T_acf27_row4_col4 {\n",
       "  text-align: left;\n",
       "  header-align: left;\n",
       "}\n",
       "</style>\n",
       "<table id=\"T_acf27\">\n",
       "  <thead>\n",
       "    <tr>\n",
       "      <th class=\"blank level0\" >&nbsp;</th>\n",
       "      <th id=\"T_acf27_level0_col0\" class=\"col_heading level0 col0\" >start</th>\n",
       "      <th id=\"T_acf27_level0_col1\" class=\"col_heading level0 col1\" >end</th>\n",
       "      <th id=\"T_acf27_level0_col2\" class=\"col_heading level0 col2\" >word</th>\n",
       "      <th id=\"T_acf27_level0_col3\" class=\"col_heading level0 col3\" >definition</th>\n",
       "      <th id=\"T_acf27_level0_col4\" class=\"col_heading level0 col4\" >type</th>\n",
       "    </tr>\n",
       "  </thead>\n",
       "  <tbody>\n",
       "    <tr>\n",
       "      <th id=\"T_acf27_level0_row0\" class=\"row_heading level0 row0\" >0</th>\n",
       "      <td id=\"T_acf27_row0_col0\" class=\"data row0 col0\" >0</td>\n",
       "      <td id=\"T_acf27_row0_col1\" class=\"data row0 col1\" >3</td>\n",
       "      <td id=\"T_acf27_row0_col2\" class=\"data row0 col2\" >kia</td>\n",
       "      <td id=\"T_acf27_row0_col3\" class=\"data row0 col3\" >Various uses, meanings. Often not translatable by an English word.</td>\n",
       "      <td id=\"T_acf27_row0_col4\" class=\"data row0 col4\" >Maori</td>\n",
       "    </tr>\n",
       "    <tr>\n",
       "      <th id=\"T_acf27_level0_row1\" class=\"row_heading level0 row1\" >1</th>\n",
       "      <td id=\"T_acf27_row1_col0\" class=\"data row1 col0\" >4</td>\n",
       "      <td id=\"T_acf27_row1_col1\" class=\"data row1 col1\" >7</td>\n",
       "      <td id=\"T_acf27_row1_col2\" class=\"data row1 col2\" >ora</td>\n",
       "      <td id=\"T_acf27_row1_col3\" class=\"data row1 col3\" >alive, well, healthy, safe</td>\n",
       "      <td id=\"T_acf27_row1_col4\" class=\"data row1 col4\" >Maori</td>\n",
       "    </tr>\n",
       "    <tr>\n",
       "      <th id=\"T_acf27_level0_row2\" class=\"row_heading level0 row2\" >2</th>\n",
       "      <td id=\"T_acf27_row2_col0\" class=\"data row2 col0\" >8</td>\n",
       "      <td id=\"T_acf27_row2_col1\" class=\"data row2 col1\" >11</td>\n",
       "      <td id=\"T_acf27_row2_col2\" class=\"data row2 col2\" >bro</td>\n",
       "      <td id=\"T_acf27_row2_col3\" class=\"data row2 col3\" > ah, an absolute Kiwi staple. Bro is short for brother and is used to describe your best mates (as well as your actual brother). Probably one of the most used Kiwi slang terms and one of our favourites.</td>\n",
       "      <td id=\"T_acf27_row2_col4\" class=\"data row2 col4\" >Slang</td>\n",
       "    </tr>\n",
       "    <tr>\n",
       "      <th id=\"T_acf27_level0_row3\" class=\"row_heading level0 row3\" >3</th>\n",
       "      <td id=\"T_acf27_row3_col0\" class=\"data row3 col0\" >34</td>\n",
       "      <td id=\"T_acf27_row3_col1\" class=\"data row3 col1\" >39</td>\n",
       "      <td id=\"T_acf27_row3_col2\" class=\"data row3 col2\" >beaut</td>\n",
       "      <td id=\"T_acf27_row3_col3\" class=\"data row3 col3\" > used to describe something that is really good. Simple as.</td>\n",
       "      <td id=\"T_acf27_row3_col4\" class=\"data row3 col4\" >Slang</td>\n",
       "    </tr>\n",
       "    <tr>\n",
       "      <th id=\"T_acf27_level0_row4\" class=\"row_heading level0 row4\" >4</th>\n",
       "      <td id=\"T_acf27_row4_col0\" class=\"data row4 col0\" >99</td>\n",
       "      <td id=\"T_acf27_row4_col1\" class=\"data row4 col1\" >103</td>\n",
       "      <td id=\"T_acf27_row4_col2\" class=\"data row4 col2\" >mahi</td>\n",
       "      <td id=\"T_acf27_row4_col3\" class=\"data row4 col3\" >to do, work, make</td>\n",
       "      <td id=\"T_acf27_row4_col4\" class=\"data row4 col4\" >Maori</td>\n",
       "    </tr>\n",
       "  </tbody>\n",
       "</table>\n"
      ],
      "text/plain": [
       "<pandas.io.formats.style.Styler at 0x2a7cb1d90>"
      ]
     },
     "execution_count": 52,
     "metadata": {},
     "output_type": "execute_result"
    }
   ],
   "source": [
    "matches = matches_dictionary(message, df_dictionary)\n",
    "positions = [(start, end) for start, end, _, _, _ in matches]\n",
    "highlighted_text = highlight_text(message, positions)\n",
    "print(f\"Message Id: {message_id}\")\n",
    "print(\"\")\n",
    "print(\"Topic content:\", highlighted_text)\n",
    "\n",
    "# add type word and definition to a data frame\n",
    "df_matches = pd.DataFrame(matches, columns=[\"start\", \"end\", \"word\", \"definition\", \"type\"])\n",
    "df_matches=df_matches.style.set_properties(**{'text-align': 'left', 'header-align': 'left'})\n",
    "df_matches.set_table_styles([dict(selector='th', props=[('text-align', 'left')])])\n",
    "df_matches\n"
   ]
  },
  {
   "cell_type": "markdown",
   "metadata": {},
   "source": [
    "## 5. Calculate the sentiment score"
   ]
  },
  {
   "cell_type": "code",
   "execution_count": 60,
   "metadata": {},
   "outputs": [
    {
     "name": "stderr",
     "output_type": "stream",
     "text": [
      "Some weights of the model checkpoint at cardiffnlp/twitter-roberta-base-sentiment-latest were not used when initializing RobertaForSequenceClassification: ['roberta.pooler.dense.bias', 'roberta.pooler.dense.weight']\n",
      "- This IS expected if you are initializing RobertaForSequenceClassification from the checkpoint of a model trained on another task or with another architecture (e.g. initializing a BertForSequenceClassification model from a BertForPreTraining model).\n",
      "- This IS NOT expected if you are initializing RobertaForSequenceClassification from the checkpoint of a model that you expect to be exactly identical (initializing a BertForSequenceClassification model from a BertForSequenceClassification model).\n"
     ]
    },
    {
     "name": "stdout",
     "output_type": "stream",
     "text": [
      "Sentiment: positive\n",
      "1) positive 0.9849\n",
      "2) neutral 0.0133\n",
      "3) negative 0.0018\n",
      "\u001b[91mWARNING: High cumulative negative score! Please take 10 minutes rest.\u001b[0m\n"
     ]
    },
    {
     "data": {
      "image/png": "[encoded data removed]",
      "text/plain": [
       "<Figure size 640x480 with 1 Axes>"
      ]
     },
     "metadata": {},
     "output_type": "display_data"
    }
   ],
   "source": [
    "# cumulative negative score\n",
    "cumulative_negative_score = 0\n",
    "cumulative_negative_score_threshold = 0\n",
    "\n",
    "# load the Twitter-roBERTa-base model\n",
    "MODEL = f\"cardiffnlp/twitter-roberta-base-sentiment-latest\"\n",
    "tokenizer = AutoTokenizer.from_pretrained(MODEL)\n",
    "config = AutoConfig.from_pretrained(MODEL)\n",
    "model = AutoModelForSequenceClassification.from_pretrained(MODEL)\n",
    "text = preprocess(message)\n",
    "encoded_input = tokenizer(text, return_tensors='pt')\n",
    "output = model(**encoded_input)\n",
    "scores = output[0][0].detach().numpy()\n",
    "scores = softmax(scores)\n",
    "ranking = np.argsort(scores)\n",
    "ranking = ranking[::-1]\n",
    "print(\"Sentiment:\", config.id2label[ranking[0]])\n",
    "for i in range(scores.shape[0]):\n",
    "    l = config.id2label[ranking[i]]\n",
    "    s = scores[ranking[i]]\n",
    "    print(f\"{i+1}) {l} {np.round(float(s), 4)}\")\n",
    "\n",
    "# Bar chart\n",
    "labels = [config.id2label[ranking[i]] for i in range(scores.shape[0])]\n",
    "values = [float(scores[ranking[i]]) for i in range(scores.shape[0])]\n",
    "# Sort labels and values based on sentiment order: positive, neutral, negative\n",
    "sentiment_order = ['positive', 'neutral', 'negative']\n",
    "sorted_labels = [label for label in sentiment_order if label in labels]\n",
    "sorted_values = [values[labels.index(label)] for label in sorted_labels]\n",
    "\n",
    "plt.bar(sorted_labels, sorted_values)\n",
    "plt.xlabel('Sentiment')\n",
    "plt.ylabel('Probability')\n",
    "plt.title('Sentiment Analysis')\n",
    "\n",
    "\n",
    "negative_score = sorted_values[2]\n",
    "cumulative_negative_score +=negative_score\n",
    "\n",
    "if cumulative_negative_score > cumulative_negative_score_threshold:\n",
    "    print(bcolors.RED + \"WARNING: High cumulative negative score! Please take 10 minutes rest.\" + bcolors.ENDC)"
   ]
  },
  {
   "cell_type": "code",
   "execution_count": null,
   "metadata": {},
   "outputs": [],
   "source": []
  }
 ],
 "metadata": {
  "kernelspec": {
   "display_name": "datascience",
   "language": "python",
   "name": "python3"
  },
  "language_info": {
   "codemirror_mode": {
    "name": "ipython",
    "version": 3
   },
   "file_extension": ".py",
   "mimetype": "text/x-python",
   "name": "python",
   "nbconvert_exporter": "python",
   "pygments_lexer": "ipython3",
   "version": "3.11.5"
  }
 },
 "nbformat": 4,
 "nbformat_minor": 2
}
